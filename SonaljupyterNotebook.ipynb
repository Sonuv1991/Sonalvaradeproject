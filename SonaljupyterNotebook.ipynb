{
 "cells": [
  {
   "cell_type": "code",
   "execution_count": 2,
   "id": "2f48c218",
   "metadata": {},
   "outputs": [
    {
     "name": "stdout",
     "output_type": "stream",
     "text": [
      "Ganpati Bappa Morya\n"
     ]
    }
   ],
   "source": [
    "print('Ganpati Bappa Morya')"
   ]
  },
  {
   "cell_type": "code",
   "execution_count": 6,
   "id": "d4f945ab",
   "metadata": {},
   "outputs": [
    {
     "name": "stdout",
     "output_type": "stream",
     "text": [
      "Hello\n"
     ]
    }
   ],
   "source": [
    "print('Hello')"
   ]
  },
  {
   "cell_type": "code",
   "execution_count": 7,
   "id": "7924d5a7",
   "metadata": {},
   "outputs": [
    {
     "name": "stdout",
     "output_type": "stream",
     "text": [
      "Hello World\n"
     ]
    }
   ],
   "source": [
    "print('Hello World')"
   ]
  },
  {
   "cell_type": "code",
   "execution_count": 8,
   "id": "c25d644f",
   "metadata": {},
   "outputs": [
    {
     "name": "stdout",
     "output_type": "stream",
     "text": [
      "Print\n"
     ]
    }
   ],
   "source": [
    "print(\"Print\")"
   ]
  },
  {
   "cell_type": "code",
   "execution_count": 9,
   "id": "1ebeddaf",
   "metadata": {},
   "outputs": [],
   "source": [
    "var=15"
   ]
  },
  {
   "cell_type": "code",
   "execution_count": 11,
   "id": "874b255b",
   "metadata": {},
   "outputs": [
    {
     "name": "stdout",
     "output_type": "stream",
     "text": [
      "15\n"
     ]
    }
   ],
   "source": [
    "print(var)"
   ]
  },
  {
   "cell_type": "code",
   "execution_count": 12,
   "id": "fb2c0977",
   "metadata": {},
   "outputs": [
    {
     "name": "stdout",
     "output_type": "stream",
     "text": [
      "<class 'int'>\n"
     ]
    }
   ],
   "source": [
    "print(type(var))"
   ]
  },
  {
   "cell_type": "code",
   "execution_count": 14,
   "id": "4070a7e5",
   "metadata": {},
   "outputs": [],
   "source": [
    "var='Sonal'"
   ]
  },
  {
   "cell_type": "code",
   "execution_count": 15,
   "id": "396156fd",
   "metadata": {},
   "outputs": [
    {
     "name": "stdout",
     "output_type": "stream",
     "text": [
      "Sonal\n"
     ]
    }
   ],
   "source": [
    "print(var)"
   ]
  },
  {
   "cell_type": "code",
   "execution_count": 16,
   "id": "c3fd2c56",
   "metadata": {},
   "outputs": [
    {
     "name": "stdout",
     "output_type": "stream",
     "text": [
      "<class 'str'>\n"
     ]
    }
   ],
   "source": [
    "print(type(var))"
   ]
  },
  {
   "cell_type": "code",
   "execution_count": 17,
   "id": "add1c688",
   "metadata": {},
   "outputs": [],
   "source": [
    "x=10\n",
    "y=15"
   ]
  },
  {
   "cell_type": "code",
   "execution_count": 18,
   "id": "c5299682",
   "metadata": {},
   "outputs": [
    {
     "name": "stdout",
     "output_type": "stream",
     "text": [
      "25\n"
     ]
    }
   ],
   "source": [
    "print(x+y)"
   ]
  },
  {
   "cell_type": "code",
   "execution_count": 19,
   "id": "da335539",
   "metadata": {},
   "outputs": [
    {
     "name": "stdout",
     "output_type": "stream",
     "text": [
      "25\n"
     ]
    }
   ],
   "source": [
    "sum=x+y\n",
    "print(sum)"
   ]
  },
  {
   "cell_type": "code",
   "execution_count": 20,
   "id": "6ca1608e",
   "metadata": {},
   "outputs": [
    {
     "name": "stdout",
     "output_type": "stream",
     "text": [
      "sum is = 25\n"
     ]
    }
   ],
   "source": [
    "print('sum is =',sum)"
   ]
  },
  {
   "cell_type": "code",
   "execution_count": 21,
   "id": "3cfb6fcb",
   "metadata": {},
   "outputs": [
    {
     "name": "stdout",
     "output_type": "stream",
     "text": [
      "sum is = 25\n"
     ]
    }
   ],
   "source": [
    "print('sum is =',x+y)"
   ]
  },
  {
   "cell_type": "code",
   "execution_count": 22,
   "id": "5cac298e",
   "metadata": {},
   "outputs": [
    {
     "data": {
      "text/plain": [
       "int"
      ]
     },
     "execution_count": 22,
     "metadata": {},
     "output_type": "execute_result"
    }
   ],
   "source": [
    "type(x)"
   ]
  },
  {
   "cell_type": "code",
   "execution_count": 29,
   "id": "abdb9f71",
   "metadata": {},
   "outputs": [
    {
     "name": "stdout",
     "output_type": "stream",
     "text": [
      "Sonal\n"
     ]
    }
   ],
   "source": [
    "a='Sonal'\n",
    "print(a)"
   ]
  },
  {
   "cell_type": "code",
   "execution_count": 1,
   "id": "84a7a6e9",
   "metadata": {},
   "outputs": [
    {
     "data": {
      "text/plain": [
       "{1, 2, 3}"
      ]
     },
     "execution_count": 1,
     "metadata": {},
     "output_type": "execute_result"
    }
   ],
   "source": [
    "sonal=(1,2,3,1,2,3)\n",
    "set((sonal))"
   ]
  },
  {
   "cell_type": "code",
   "execution_count": 2,
   "id": "8af47bd2",
   "metadata": {},
   "outputs": [
    {
     "data": {
      "text/plain": [
       "list"
      ]
     },
     "execution_count": 2,
     "metadata": {},
     "output_type": "execute_result"
    }
   ],
   "source": [
    "sonal=[1,2,3]\n",
    "type((sonal))"
   ]
  },
  {
   "cell_type": "code",
   "execution_count": 4,
   "id": "2f71b595",
   "metadata": {},
   "outputs": [],
   "source": [
    "sonal=['so','no','do']"
   ]
  },
  {
   "cell_type": "code",
   "execution_count": 5,
   "id": "254c4b49",
   "metadata": {},
   "outputs": [
    {
     "data": {
      "text/plain": [
       "['so', 'no', 'do']"
      ]
     },
     "execution_count": 5,
     "metadata": {},
     "output_type": "execute_result"
    }
   ],
   "source": [
    "sonal"
   ]
  },
  {
   "cell_type": "code",
   "execution_count": 6,
   "id": "a4f50b72",
   "metadata": {},
   "outputs": [
    {
     "data": {
      "text/plain": [
       "list"
      ]
     },
     "execution_count": 6,
     "metadata": {},
     "output_type": "execute_result"
    }
   ],
   "source": [
    "type((sonal))"
   ]
  },
  {
   "cell_type": "code",
   "execution_count": 15,
   "id": "b266c534",
   "metadata": {},
   "outputs": [
    {
     "data": {
      "text/plain": [
       "int"
      ]
     },
     "execution_count": 15,
     "metadata": {},
     "output_type": "execute_result"
    }
   ],
   "source": [
    "x=1\n",
    "y=2\n",
    "type(x)"
   ]
  },
  {
   "cell_type": "code",
   "execution_count": 16,
   "id": "14659abb",
   "metadata": {},
   "outputs": [
    {
     "name": "stdout",
     "output_type": "stream",
     "text": [
      "<class 'int'>\n"
     ]
    }
   ],
   "source": [
    "print(type(x))"
   ]
  },
  {
   "cell_type": "code",
   "execution_count": 18,
   "id": "b0c28ba3",
   "metadata": {},
   "outputs": [
    {
     "name": "stdout",
     "output_type": "stream",
     "text": [
      "['False', 'None', 'True', '__peg_parser__', 'and', 'as', 'assert', 'async', 'await', 'break', 'class', 'continue', 'def', 'del', 'elif', 'else', 'except', 'finally', 'for', 'from', 'global', 'if', 'import', 'in', 'is', 'lambda', 'nonlocal', 'not', 'or', 'pass', 'raise', 'return', 'try', 'while', 'with', 'yield']\n"
     ]
    }
   ],
   "source": [
    "import keyword\n",
    "print(keyword.kwlist)"
   ]
  },
  {
   "cell_type": "code",
   "execution_count": 21,
   "id": "d46c3d74",
   "metadata": {},
   "outputs": [
    {
     "data": {
      "text/plain": [
       "False"
      ]
     },
     "execution_count": 21,
     "metadata": {},
     "output_type": "execute_result"
    }
   ],
   "source": [
    "True and False"
   ]
  },
  {
   "cell_type": "code",
   "execution_count": 25,
   "id": "3b13048f",
   "metadata": {},
   "outputs": [
    {
     "data": {
      "text/plain": [
       "True"
      ]
     },
     "execution_count": 25,
     "metadata": {},
     "output_type": "execute_result"
    }
   ],
   "source": [
    "True or False\n",
    "False is False "
   ]
  },
  {
   "cell_type": "code",
   "execution_count": 26,
   "id": "65180a0e",
   "metadata": {},
   "outputs": [
    {
     "data": {
      "text/plain": [
       "False"
      ]
     },
     "execution_count": 26,
     "metadata": {},
     "output_type": "execute_result"
    }
   ],
   "source": [
    "not True"
   ]
  },
  {
   "cell_type": "code",
   "execution_count": 27,
   "id": "f2f7e620",
   "metadata": {},
   "outputs": [
    {
     "data": {
      "text/plain": [
       "True"
      ]
     },
     "execution_count": 27,
     "metadata": {},
     "output_type": "execute_result"
    }
   ],
   "source": [
    "not False"
   ]
  },
  {
   "cell_type": "code",
   "execution_count": 28,
   "id": "9b0a1723",
   "metadata": {},
   "outputs": [
    {
     "data": {
      "text/plain": [
       "2"
      ]
     },
     "execution_count": 28,
     "metadata": {},
     "output_type": "execute_result"
    }
   ],
   "source": [
    "True + True"
   ]
  },
  {
   "cell_type": "code",
   "execution_count": 29,
   "id": "d6e6fc89",
   "metadata": {},
   "outputs": [
    {
     "data": {
      "text/plain": [
       "0"
      ]
     },
     "execution_count": 29,
     "metadata": {},
     "output_type": "execute_result"
    }
   ],
   "source": [
    "True - True"
   ]
  },
  {
   "cell_type": "code",
   "execution_count": 30,
   "id": "449c0f03",
   "metadata": {},
   "outputs": [
    {
     "data": {
      "text/plain": [
       "1"
      ]
     },
     "execution_count": 30,
     "metadata": {},
     "output_type": "execute_result"
    }
   ],
   "source": [
    "True + False"
   ]
  },
  {
   "cell_type": "code",
   "execution_count": 31,
   "id": "4f180b80",
   "metadata": {},
   "outputs": [
    {
     "data": {
      "text/plain": [
       "0"
      ]
     },
     "execution_count": 31,
     "metadata": {},
     "output_type": "execute_result"
    }
   ],
   "source": [
    "False + False "
   ]
  },
  {
   "cell_type": "code",
   "execution_count": 32,
   "id": "905cd58a",
   "metadata": {},
   "outputs": [
    {
     "data": {
      "text/plain": [
       "1"
      ]
     },
     "execution_count": 32,
     "metadata": {},
     "output_type": "execute_result"
    }
   ],
   "source": [
    "False + True "
   ]
  },
  {
   "cell_type": "code",
   "execution_count": 33,
   "id": "143a592a",
   "metadata": {},
   "outputs": [
    {
     "data": {
      "text/plain": [
       "1"
      ]
     },
     "execution_count": 33,
     "metadata": {},
     "output_type": "execute_result"
    }
   ],
   "source": [
    "True -False"
   ]
  },
  {
   "cell_type": "code",
   "execution_count": 34,
   "id": "3aa525a5",
   "metadata": {},
   "outputs": [
    {
     "data": {
      "text/plain": [
       "False"
      ]
     },
     "execution_count": 34,
     "metadata": {},
     "output_type": "execute_result"
    }
   ],
   "source": [
    "8==9"
   ]
  },
  {
   "cell_type": "code",
   "execution_count": 35,
   "id": "e7bb1553",
   "metadata": {},
   "outputs": [
    {
     "data": {
      "text/plain": [
       "True"
      ]
     },
     "execution_count": 35,
     "metadata": {},
     "output_type": "execute_result"
    }
   ],
   "source": [
    "10==10"
   ]
  },
  {
   "cell_type": "code",
   "execution_count": 38,
   "id": "3c6d9aa6",
   "metadata": {},
   "outputs": [
    {
     "data": {
      "text/plain": [
       "True"
      ]
     },
     "execution_count": 38,
     "metadata": {},
     "output_type": "execute_result"
    }
   ],
   "source": [
    "True and False or True"
   ]
  },
  {
   "cell_type": "code",
   "execution_count": 39,
   "id": "e6111d40",
   "metadata": {},
   "outputs": [
    {
     "data": {
      "text/plain": [
       "10"
      ]
     },
     "execution_count": 39,
     "metadata": {},
     "output_type": "execute_result"
    }
   ],
   "source": [
    "a=10\n",
    "a"
   ]
  },
  {
   "cell_type": "code",
   "execution_count": 40,
   "id": "2227d899",
   "metadata": {},
   "outputs": [
    {
     "data": {
      "text/plain": [
       "int"
      ]
     },
     "execution_count": 40,
     "metadata": {},
     "output_type": "execute_result"
    }
   ],
   "source": [
    "type(a)"
   ]
  },
  {
   "cell_type": "code",
   "execution_count": 41,
   "id": "4c8a6a71",
   "metadata": {},
   "outputs": [
    {
     "name": "stdout",
     "output_type": "stream",
     "text": [
      "<class 'int'>\n"
     ]
    }
   ],
   "source": [
    "print(type(a))"
   ]
  },
  {
   "cell_type": "code",
   "execution_count": 42,
   "id": "953aebc5",
   "metadata": {},
   "outputs": [
    {
     "name": "stdout",
     "output_type": "stream",
     "text": [
      "20.0\n"
     ]
    },
    {
     "data": {
      "text/plain": [
       "float"
      ]
     },
     "execution_count": 42,
     "metadata": {},
     "output_type": "execute_result"
    }
   ],
   "source": [
    "b=20.0\n",
    "print(b)\n",
    "type(b)"
   ]
  },
  {
   "cell_type": "code",
   "execution_count": 43,
   "id": "42e18155",
   "metadata": {},
   "outputs": [
    {
     "name": "stdout",
     "output_type": "stream",
     "text": [
      "30\n",
      "25\n"
     ]
    }
   ],
   "source": [
    "a=10\n",
    "b=20\n",
    "c=a+b\n",
    "print(c)\n",
    "print(c-5)"
   ]
  },
  {
   "cell_type": "code",
   "execution_count": 44,
   "id": "f21ce187",
   "metadata": {},
   "outputs": [
    {
     "data": {
      "text/plain": [
       "complex"
      ]
     },
     "execution_count": 44,
     "metadata": {},
     "output_type": "execute_result"
    }
   ],
   "source": [
    "c=2+6j\n",
    "type(c)"
   ]
  },
  {
   "cell_type": "code",
   "execution_count": 45,
   "id": "5cd4385e",
   "metadata": {},
   "outputs": [
    {
     "name": "stdout",
     "output_type": "stream",
     "text": [
      "sonal\n"
     ]
    }
   ],
   "source": [
    "print(\"sonal\")"
   ]
  },
  {
   "cell_type": "code",
   "execution_count": 46,
   "id": "31407e1d",
   "metadata": {},
   "outputs": [
    {
     "name": "stdout",
     "output_type": "stream",
     "text": [
      "Python is a easy Language\n"
     ]
    }
   ],
   "source": [
    "a=\"Python\"\n",
    "b=\"is a easy\"\n",
    "c='Language'\n",
    "print(a,b,c)"
   ]
  },
  {
   "cell_type": "code",
   "execution_count": 1,
   "id": "4e58f3c0",
   "metadata": {},
   "outputs": [
    {
     "name": "stdout",
     "output_type": "stream",
     "text": [
      "Day 2\n"
     ]
    }
   ],
   "source": [
    "print(\"Day\",\"2\")"
   ]
  },
  {
   "cell_type": "code",
   "execution_count": 2,
   "id": "ba9ea16d",
   "metadata": {},
   "outputs": [
    {
     "name": "stdout",
     "output_type": "stream",
     "text": [
      "Day 2\n"
     ]
    }
   ],
   "source": [
    "print('Day',str(2))"
   ]
  },
  {
   "cell_type": "code",
   "execution_count": 3,
   "id": "267894f1",
   "metadata": {},
   "outputs": [
    {
     "data": {
      "text/plain": [
       "[]"
      ]
     },
     "execution_count": 3,
     "metadata": {},
     "output_type": "execute_result"
    }
   ],
   "source": [
    "l=[]\n",
    "l"
   ]
  },
  {
   "cell_type": "code",
   "execution_count": 4,
   "id": "804ba7b2",
   "metadata": {},
   "outputs": [
    {
     "data": {
      "text/plain": [
       "['a', 'b', 'c']"
      ]
     },
     "execution_count": 4,
     "metadata": {},
     "output_type": "execute_result"
    }
   ],
   "source": [
    "l=['a','b','c']\n",
    "l"
   ]
  },
  {
   "cell_type": "code",
   "execution_count": 5,
   "id": "4bc95a69",
   "metadata": {},
   "outputs": [
    {
     "data": {
      "text/plain": [
       "['a', 1, 1.6]"
      ]
     },
     "execution_count": 5,
     "metadata": {},
     "output_type": "execute_result"
    }
   ],
   "source": [
    "l=['a',1,1.6]\n",
    "l"
   ]
  },
  {
   "cell_type": "code",
   "execution_count": 8,
   "id": "7df188ff",
   "metadata": {},
   "outputs": [
    {
     "data": {
      "text/plain": [
       "['a', 1, 1.6]"
      ]
     },
     "execution_count": 8,
     "metadata": {},
     "output_type": "execute_result"
    }
   ],
   "source": [
    "l2=list(l)\n",
    "l2"
   ]
  },
  {
   "cell_type": "code",
   "execution_count": 9,
   "id": "d77c905e",
   "metadata": {},
   "outputs": [
    {
     "data": {
      "text/plain": [
       "[35, 45, 60, 80, 100]"
      ]
     },
     "execution_count": 9,
     "metadata": {},
     "output_type": "execute_result"
    }
   ],
   "source": [
    "marks=[35,45,60,80,100]\n",
    "marks"
   ]
  },
  {
   "cell_type": "code",
   "execution_count": 13,
   "id": "9e577876",
   "metadata": {},
   "outputs": [
    {
     "data": {
      "text/plain": [
       "[35, 45, 60, 80, 100]"
      ]
     },
     "execution_count": 13,
     "metadata": {},
     "output_type": "execute_result"
    }
   ],
   "source": [
    "copy_marks=marks.copy()\n",
    "copy_marks"
   ]
  },
  {
   "cell_type": "code",
   "execution_count": 22,
   "id": "39f0f536",
   "metadata": {},
   "outputs": [
    {
     "data": {
      "text/plain": [
       "[]"
      ]
     },
     "execution_count": 22,
     "metadata": {},
     "output_type": "execute_result"
    }
   ],
   "source": [
    "employee=[]\n",
    "employee"
   ]
  },
  {
   "cell_type": "code",
   "execution_count": 23,
   "id": "7d10c729",
   "metadata": {},
   "outputs": [
    {
     "data": {
      "text/plain": [
       "['Radha']"
      ]
     },
     "execution_count": 23,
     "metadata": {},
     "output_type": "execute_result"
    }
   ],
   "source": [
    "employee.append('Radha')\n",
    "employee"
   ]
  },
  {
   "cell_type": "code",
   "execution_count": 25,
   "id": "6cb02206",
   "metadata": {},
   "outputs": [
    {
     "data": {
      "text/plain": [
       "['Radha', 'Salman']"
      ]
     },
     "execution_count": 25,
     "metadata": {},
     "output_type": "execute_result"
    }
   ],
   "source": [
    "employee.append('Salman')\n",
    "employee"
   ]
  },
  {
   "cell_type": "code",
   "execution_count": 26,
   "id": "78dc0e78",
   "metadata": {},
   "outputs": [
    {
     "name": "stdout",
     "output_type": "stream",
     "text": [
      "time.struct_time(tm_year=2022, tm_mon=2, tm_mday=13, tm_hour=15, tm_min=28, tm_sec=50, tm_wday=6, tm_yday=44, tm_isdst=0)\n"
     ]
    }
   ],
   "source": [
    "import time\n",
    "result=time.localtime()\n",
    "print(result)"
   ]
  },
  {
   "cell_type": "code",
   "execution_count": 1,
   "id": "152f518f",
   "metadata": {},
   "outputs": [
    {
     "data": {
      "text/plain": [
       "2"
      ]
     },
     "execution_count": 1,
     "metadata": {},
     "output_type": "execute_result"
    }
   ],
   "source": [
    "\n",
    "Marks=[10,20,30,33,30]\n",
    "Marks.count(30)"
   ]
  },
  {
   "cell_type": "code",
   "execution_count": 4,
   "id": "d8a27fc1",
   "metadata": {},
   "outputs": [
    {
     "data": {
      "text/plain": [
       "{1, 2, 'sONAL'}"
      ]
     },
     "execution_count": 4,
     "metadata": {},
     "output_type": "execute_result"
    }
   ],
   "source": [
    "List=['sONAL',1,2]\n",
    "set(List)"
   ]
  },
  {
   "cell_type": "code",
   "execution_count": 9,
   "id": "bc98f0b6",
   "metadata": {},
   "outputs": [
    {
     "data": {
      "text/plain": [
       "{'roll_no': 123,\n",
       " 'Marks': [12, 13, 33],\n",
       " 'subject': ['Computer', 'Sceince', 'Maths']}"
      ]
     },
     "execution_count": 9,
     "metadata": {},
     "output_type": "execute_result"
    }
   ],
   "source": [
    "my_dict={'roll_no':123,'Marks':[12,13,33],'subject':['Computer','Sceince','Maths']}\n",
    "my_dict"
   ]
  },
  {
   "cell_type": "code",
   "execution_count": 24,
   "id": "809492a4",
   "metadata": {},
   "outputs": [
    {
     "data": {
      "text/plain": [
       "{'roll_no': 100,\n",
       " 'Marks': [12, 13, 33],\n",
       " 'subject': ['Computer', 'Sceince', 'Maths'],\n",
       " 'r': 40}"
      ]
     },
     "execution_count": 24,
     "metadata": {},
     "output_type": "execute_result"
    }
   ],
   "source": [
    "my_dict.update({'roll_no':100})\n",
    "my_dict"
   ]
  },
  {
   "cell_type": "code",
   "execution_count": 25,
   "id": "892a818d",
   "metadata": {},
   "outputs": [
    {
     "data": {
      "text/plain": [
       "{'roll_no': 123,\n",
       " 'Marks': [12, 13, 33],\n",
       " 'subject': ['Computer', 'Sceince', 'Maths']}"
      ]
     },
     "execution_count": 25,
     "metadata": {},
     "output_type": "execute_result"
    }
   ],
   "source": [
    "my_dict={'roll_no':123,'Marks':[12,13,33],'subject':['Computer','Sceince','Maths']}\n",
    "my_dict"
   ]
  },
  {
   "cell_type": "code",
   "execution_count": 35,
   "id": "ee23a497",
   "metadata": {},
   "outputs": [
    {
     "data": {
      "text/plain": [
       "{'roll_no': 100,\n",
       " 'Marks': '33,12,13',\n",
       " 'subject': ['Computer', 'Sceince', 'Maths'],\n",
       " 'r': '100'}"
      ]
     },
     "execution_count": 35,
     "metadata": {},
     "output_type": "execute_result"
    }
   ],
   "source": [
    "my_dict.update({'Marks':\"33,12,13\"})\n",
    "my_dict"
   ]
  },
  {
   "cell_type": "code",
   "execution_count": 40,
   "id": "8227f326",
   "metadata": {},
   "outputs": [
    {
     "data": {
      "text/plain": [
       "{'roll_no': 100,\n",
       " 'Marks': [0],\n",
       " 'subject': ['Computer', 'Sceince', 'Maths'],\n",
       " 'r': '100',\n",
       " 'a': '10'}"
      ]
     },
     "execution_count": 40,
     "metadata": {},
     "output_type": "execute_result"
    }
   ],
   "source": [
    "my_dict.update({'Marks':[0]})\n",
    "my_dict"
   ]
  },
  {
   "cell_type": "code",
   "execution_count": 41,
   "id": "bae4fe75",
   "metadata": {},
   "outputs": [
    {
     "name": "stdout",
     "output_type": "stream",
     "text": [
      "it is less than 10\n"
     ]
    }
   ],
   "source": [
    "i=11\n",
    "if i<10:\n",
    "    print('it is less than 10')\n",
    "else:\n",
    "    print('it is not less than 10')"
   ]
  },
  {
   "cell_type": "code",
   "execution_count": 45,
   "id": "a17693c0",
   "metadata": {},
   "outputs": [
    {
     "name": "stdout",
     "output_type": "stream",
     "text": [
      "it is less than 10\n"
     ]
    }
   ],
   "source": [
    "print('it is less than 10') if i<10 else print('it is something else')"
   ]
  },
  {
   "cell_type": "code",
   "execution_count": 46,
   "id": "51082b61",
   "metadata": {},
   "outputs": [
    {
     "name": "stdout",
     "output_type": "stream",
     "text": [
      "it is not less than 10\n"
     ]
    }
   ],
   "source": [
    "i=11\n",
    "if i<10:\n",
    "    print('it is less than 10')\n",
    "else:\n",
    "    print('it is not less than 10')"
   ]
  },
  {
   "cell_type": "code",
   "execution_count": 47,
   "id": "4ce992cd",
   "metadata": {},
   "outputs": [
    {
     "name": "stdout",
     "output_type": "stream",
     "text": [
      "it is something else\n"
     ]
    }
   ],
   "source": [
    "print('it is less than 10') if i<10 else print('it is something else')"
   ]
  },
  {
   "cell_type": "code",
   "execution_count": 49,
   "id": "a628d26e",
   "metadata": {},
   "outputs": [
    {
     "name": "stdout",
     "output_type": "stream",
     "text": [
      "it is less than 10\n"
     ]
    }
   ],
   "source": [
    "i=9\n",
    "print('it is less than 10') if i<10 else print('it is something else')"
   ]
  },
  {
   "cell_type": "code",
   "execution_count": 53,
   "id": "1625dff4",
   "metadata": {},
   "outputs": [
    {
     "ename": "SyntaxError",
     "evalue": "invalid syntax (Temp/ipykernel_20008/1636607292.py, line 5)",
     "output_type": "error",
     "traceback": [
      "\u001b[1;36m  File \u001b[1;32m\"C:\\Users\\ADMINI~1\\AppData\\Local\\Temp/ipykernel_20008/1636607292.py\"\u001b[1;36m, line \u001b[1;32m5\u001b[0m\n\u001b[1;33m    else (x+y)<=500:\u001b[0m\n\u001b[1;37m         ^\u001b[0m\n\u001b[1;31mSyntaxError\u001b[0m\u001b[1;31m:\u001b[0m invalid syntax\n"
     ]
    }
   ],
   "source": [
    "x=100\n",
    "y=200\n",
    "if (x+y)>=500:\n",
    "    print('your are eligible for free shipping')\n",
    "else: \n",
    "    extra =500-(x+y)\n",
    "    (x+y)<=500:\n",
    "    print('please add',(500-(x+y)),'Rs. for delivery charge')"
   ]
  },
  {
   "cell_type": "code",
   "execution_count": 1,
   "id": "3c415c94",
   "metadata": {},
   "outputs": [
    {
     "data": {
      "text/plain": [
       "{'roll_no': 123,\n",
       " 'Marks': [12, 13, 33],\n",
       " 'subject': ['Computer', 'Sceince', 'Maths']}"
      ]
     },
     "execution_count": 1,
     "metadata": {},
     "output_type": "execute_result"
    }
   ],
   "source": [
    "my_dict={'roll_no':123,'Marks':[12,13,33],'subject':['Computer','Sceince','Maths']}\n",
    "my_dict"
   ]
  },
  {
   "cell_type": "code",
   "execution_count": 7,
   "id": "d4dde63f",
   "metadata": {},
   "outputs": [
    {
     "data": {
      "text/plain": [
       "{'roll_no': 123, 'Marks': [12, 13, 35], 'subject': 100, 'a': 34}"
      ]
     },
     "execution_count": 7,
     "metadata": {},
     "output_type": "execute_result"
    }
   ],
   "source": [
    "my_dict.update({'subject':100})\n",
    "my_dict"
   ]
  },
  {
   "cell_type": "code",
   "execution_count": 15,
   "id": "32f5a9e0",
   "metadata": {},
   "outputs": [
    {
     "name": "stdout",
     "output_type": "stream",
     "text": [
      "it is less than 10\n",
      "it is something else\n"
     ]
    }
   ],
   "source": [
    "i=9\n",
    "\n",
    "if i<10:\n",
    "    print('it is less than 10')\n",
    "    \n",
    "if i==10:\n",
    "    print('it is 10')\n",
    "else:\n",
    "    print('it is something else')\n"
   ]
  },
  {
   "cell_type": "code",
   "execution_count": 23,
   "id": "e9ccf0da",
   "metadata": {},
   "outputs": [
    {
     "name": "stdout",
     "output_type": "stream",
     "text": [
      "it is something else\n"
     ]
    }
   ],
   "source": [
    "i=11\n",
    "\n",
    "if i<10:\n",
    "    print('it is less than 10')\n",
    "    \n",
    "if i==10:\n",
    "    print('it is 10')\n",
    "else:\n",
    "    print('it is something else')\n"
   ]
  },
  {
   "cell_type": "code",
   "execution_count": 24,
   "id": "c5f3f2b0",
   "metadata": {},
   "outputs": [
    {
     "name": "stdout",
     "output_type": "stream",
     "text": [
      "it is something else\n"
     ]
    }
   ],
   "source": [
    "print('it is less than 10') if i<10 else print ('it is something else')"
   ]
  },
  {
   "cell_type": "code",
   "execution_count": 28,
   "id": "82c9a8c0",
   "metadata": {},
   "outputs": [
    {
     "name": "stdout",
     "output_type": "stream",
     "text": [
      "you are eligible for free shipping\n"
     ]
    }
   ],
   "source": [
    "x=600\n",
    "y=200\n",
    "\n",
    "if (x+y)>=500:\n",
    "    print('you are eligible for free shipping')\n",
    "if (x+y)<=500:\n",
    "    extra=500-(x+y)\n",
    "    print('please add rs',extra,' for shipping charges')"
   ]
  },
  {
   "cell_type": "code",
   "execution_count": 30,
   "id": "80423c28",
   "metadata": {},
   "outputs": [
    {
     "name": "stdout",
     "output_type": "stream",
     "text": [
      "please add rs 200  for shipping charges\n"
     ]
    }
   ],
   "source": [
    "x=100\n",
    "y=200\n",
    "\n",
    "if (x+y)>=500:\n",
    "    print('you are eligible for free shipping')\n",
    "else:\n",
    "    extra=500-(x+y)\n",
    "    print('please add rs',extra,' for shipping charges')"
   ]
  },
  {
   "cell_type": "code",
   "execution_count": 31,
   "id": "4a904169",
   "metadata": {},
   "outputs": [
    {
     "name": "stdout",
     "output_type": "stream",
     "text": [
      "both are not true\n"
     ]
    }
   ],
   "source": [
    "a=200\n",
    "b=33\n",
    "c=500\n",
    "if a>b and c<a:\n",
    "    print('both conditions are true')\n",
    "else:\n",
    "    print('both are not true')"
   ]
  },
  {
   "cell_type": "code",
   "execution_count": 32,
   "id": "134c31db",
   "metadata": {},
   "outputs": [
    {
     "name": "stdout",
     "output_type": "stream",
     "text": [
      "at least one of the condition is true\n"
     ]
    }
   ],
   "source": [
    "a=200\n",
    "b=33\n",
    "c=500\n",
    "if a>b or c<a:\n",
    "    print('at least one of the condition is true')\n"
   ]
  },
  {
   "cell_type": "code",
   "execution_count": 35,
   "id": "d1b0925d",
   "metadata": {},
   "outputs": [
    {
     "name": "stdout",
     "output_type": "stream",
     "text": [
      "first class\n"
     ]
    }
   ],
   "source": [
    "marks=70\n",
    "if marks>60:\n",
    "    if marks>70:\n",
    "        print('Distinction')\n",
    "    else:\n",
    "        print('first class')\n",
    "elif marks>50 and marks<=60:\n",
    "    print('second class')\n",
    "elif marks >=35:\n",
    "    print('pass')\n",
    "else:\n",
    "    print('fail')"
   ]
  },
  {
   "cell_type": "code",
   "execution_count": 39,
   "id": "c7be0d5a",
   "metadata": {},
   "outputs": [
    {
     "name": "stdout",
     "output_type": "stream",
     "text": [
      "it is grater than 25\n"
     ]
    }
   ],
   "source": [
    "num1=20\n",
    "num2=30\n",
    "\n",
    "if num1 == \"20\":\n",
    "    print('it is not 20')\n",
    "elif num2 > 25:\n",
    "    print('it is grater than 25')"
   ]
  },
  {
   "cell_type": "code",
   "execution_count": 42,
   "id": "abe98528",
   "metadata": {},
   "outputs": [
    {
     "name": "stdout",
     "output_type": "stream",
     "text": [
      "it is grater than 6\n"
     ]
    }
   ],
   "source": [
    "num1=5\n",
    "num2=7\n",
    "\n",
    "if num1 == \"5\":\n",
    "    print('it is not 5')\n",
    "elif num2 > 6:\n",
    "    print('it is grater than 6')"
   ]
  },
  {
   "cell_type": "code",
   "execution_count": 1,
   "id": "28343fc0",
   "metadata": {},
   "outputs": [
    {
     "name": "stdout",
     "output_type": "stream",
     "text": [
      "time.struct_time(tm_year=2022, tm_mon=2, tm_mday=22, tm_hour=18, tm_min=55, tm_sec=34, tm_wday=1, tm_yday=53, tm_isdst=0)\n"
     ]
    }
   ],
   "source": [
    "import time\n",
    "result=time.localtime()\n",
    "print(result)"
   ]
  },
  {
   "cell_type": "code",
   "execution_count": 4,
   "id": "d87cca93",
   "metadata": {},
   "outputs": [
    {
     "ename": "SyntaxError",
     "evalue": "invalid syntax (Temp/ipykernel_27252/1741300437.py, line 3)",
     "output_type": "error",
     "traceback": [
      "\u001b[1;36m  File \u001b[1;32m\"C:\\Users\\ADMINI~1\\AppData\\Local\\Temp/ipykernel_27252/1741300437.py\"\u001b[1;36m, line \u001b[1;32m3\u001b[0m\n\u001b[1;33m    if result.tm_hour==18 and result.tm_min==59\u001b[0m\n\u001b[1;37m                                               ^\u001b[0m\n\u001b[1;31mSyntaxError\u001b[0m\u001b[1;31m:\u001b[0m invalid syntax\n"
     ]
    }
   ],
   "source": [
    "while True:\n",
    "    result=time.locatime()\n",
    "    if result.tm_hour==18 and result.tm_min==59\n",
    "    print('hellow')\n",
    "    break"
   ]
  },
  {
   "cell_type": "code",
   "execution_count": 6,
   "id": "ddc2d660",
   "metadata": {},
   "outputs": [],
   "source": [
    "def say_hello():\n",
    "    print('Sample')"
   ]
  },
  {
   "cell_type": "code",
   "execution_count": 7,
   "id": "f768824f",
   "metadata": {},
   "outputs": [
    {
     "name": "stdout",
     "output_type": "stream",
     "text": [
      "Sample\n"
     ]
    }
   ],
   "source": [
    "say_hello()"
   ]
  },
  {
   "cell_type": "code",
   "execution_count": 1,
   "id": "3b7970ef",
   "metadata": {},
   "outputs": [],
   "source": [
    "def greeting(name):\n",
    "    print('hello',name)"
   ]
  },
  {
   "cell_type": "code",
   "execution_count": 2,
   "id": "3660ea30",
   "metadata": {},
   "outputs": [
    {
     "name": "stdout",
     "output_type": "stream",
     "text": [
      "hello dear student\n"
     ]
    }
   ],
   "source": [
    "greeting('dear student')"
   ]
  },
  {
   "cell_type": "code",
   "execution_count": 3,
   "id": "1ee2f1ee",
   "metadata": {},
   "outputs": [],
   "source": [
    "def salary_incr(salary):\n",
    "    if salary<=9000:\n",
    "        return(salary+1000)\n",
    "    else:\n",
    "        return salary"
   ]
  },
  {
   "cell_type": "code",
   "execution_count": 4,
   "id": "f58829d7",
   "metadata": {},
   "outputs": [
    {
     "name": "stdout",
     "output_type": "stream",
     "text": [
      "your salary is = 2500\n"
     ]
    }
   ],
   "source": [
    "print('your salary is =',salary_incr(1500))"
   ]
  },
  {
   "cell_type": "code",
   "execution_count": 12,
   "id": "17ba4e02",
   "metadata": {},
   "outputs": [],
   "source": [
    "def marks(Science,Math,History):\n",
    "    return (Science + Math + History)"
   ]
  },
  {
   "cell_type": "code",
   "execution_count": 13,
   "id": "7899c16f",
   "metadata": {},
   "outputs": [
    {
     "name": "stdout",
     "output_type": "stream",
     "text": [
      "your Marks is = 115\n"
     ]
    }
   ],
   "source": [
    "print('your Marks is =',marks(50,20,45))"
   ]
  },
  {
   "cell_type": "code",
   "execution_count": 17,
   "id": "3e1fe6f1",
   "metadata": {},
   "outputs": [
    {
     "name": "stdout",
     "output_type": "stream",
     "text": [
      "82 YOU ARE FAIL\n"
     ]
    }
   ],
   "source": [
    "Total_marks = marks(32,30,20)\n",
    "\n",
    "if Total_marks <90:\n",
    "    print(Total_marks,'YOU ARE FAIL')\n",
    "    \n",
    "elif Total_marks >90 and Total_marks <150:\n",
    "    print(Total_marks,'YOU ARE FIRST CLASS')\n",
    "    \n",
    "elif Total_marks >151 and Total_marks <250:\n",
    "    print(Total_marks,'YOU ARE FIRST CLASS')\n",
    "    \n",
    "else:\n",
    "    print(Total_marks,'YOU ARE DISTINCTION')\n",
    "    "
   ]
  },
  {
   "cell_type": "code",
   "execution_count": 3,
   "id": "1c06e235",
   "metadata": {},
   "outputs": [],
   "source": [
    "def sqre (number):\n",
    "    for n in range (2,number):\n",
    "        if n%2==0:\n",
    "            print('squared:',n**2)\n",
    "        else:\n",
    "            print('it is an odd number:',n)"
   ]
  },
  {
   "cell_type": "code",
   "execution_count": null,
   "id": "6dff89b5",
   "metadata": {},
   "outputs": [],
   "source": [
    "def mobile_num():\n",
    "    \n",
    "    while True:\n",
    "        try:\n",
    "            val=int(input('please enter mobile number:'))\n",
    "            \n",
    "        except:\n",
    "            print('looks you did not enter an valid integer')\n",
    "            continue\n",
    "        else:\n",
    "            if len(str(val))!=10:\n",
    "                print('your mobile no. must be 10 digit')\n",
    "                continue\n",
    "                \n",
    "            print('thank you')\n",
    "            break\n",
    "        "
   ]
  },
  {
   "cell_type": "code",
   "execution_count": null,
   "id": "48674c0b",
   "metadata": {},
   "outputs": [],
   "source": [
    "mobile_num()"
   ]
  },
  {
   "cell_type": "code",
   "execution_count": null,
   "id": "811a672a",
   "metadata": {},
   "outputs": [],
   "source": [
    "class Gmail:\n",
    "    def __init__(self,name,last_name,city,user_id,password):\n",
    "        self.name = name\n",
    "        self.last_name = last_name\n",
    "        self.city = city\n",
    "        self.user_id = user_id\n",
    "        self.password = password\n",
    "    \n",
    "    def login(self):\n",
    "        while True:\n",
    "            signin = input('Email-')\n",
    "            password = input('password-')\n",
    "            if signin == self.user_id and password == self.password:\n",
    "                print('success')\n",
    "                break\n",
    "            else:\n",
    "                print('invalid id or pass')\n",
    "                continue"
   ]
  },
  {
   "cell_type": "code",
   "execution_count": 1,
   "id": "37a30346",
   "metadata": {},
   "outputs": [
    {
     "ename": "NameError",
     "evalue": "name 'Gmail' is not defined",
     "output_type": "error",
     "traceback": [
      "\u001b[1;31m---------------------------------------------------------------------------\u001b[0m",
      "\u001b[1;31mNameError\u001b[0m                                 Traceback (most recent call last)",
      "\u001b[1;32mC:\\Users\\ADMINI~1\\AppData\\Local\\Temp/ipykernel_26220/139482151.py\u001b[0m in \u001b[0;36m<module>\u001b[1;34m\u001b[0m\n\u001b[1;32m----> 1\u001b[1;33m \u001b[0mGmail\u001b[0m\u001b[1;33m(\u001b[0m\u001b[1;34m'sonal'\u001b[0m\u001b[1;33m,\u001b[0m\u001b[1;34m'varade'\u001b[0m\u001b[1;33m,\u001b[0m\u001b[1;34m'Mumbai'\u001b[0m\u001b[1;33m,\u001b[0m\u001b[1;34m'sonuv1991'\u001b[0m\u001b[1;33m,\u001b[0m\u001b[1;34m'123'\u001b[0m\u001b[1;33m)\u001b[0m\u001b[1;33m\u001b[0m\u001b[1;33m\u001b[0m\u001b[0m\n\u001b[0m",
      "\u001b[1;31mNameError\u001b[0m: name 'Gmail' is not defined"
     ]
    }
   ],
   "source": [
    "Gmail('sonal','varade','Mumbai','sonuv1991','123')"
   ]
  },
  {
   "cell_type": "code",
   "execution_count": null,
   "id": "f5487e80",
   "metadata": {},
   "outputs": [],
   "source": [
    "Gmail.login"
   ]
  },
  {
   "cell_type": "code",
   "execution_count": 2,
   "id": "85cedc9f",
   "metadata": {},
   "outputs": [
    {
     "ename": "NameError",
     "evalue": "name 'Gmail' is not defined",
     "output_type": "error",
     "traceback": [
      "\u001b[1;31m---------------------------------------------------------------------------\u001b[0m",
      "\u001b[1;31mNameError\u001b[0m                                 Traceback (most recent call last)",
      "\u001b[1;32mC:\\Users\\ADMINI~1\\AppData\\Local\\Temp/ipykernel_26220/681313682.py\u001b[0m in \u001b[0;36m<module>\u001b[1;34m\u001b[0m\n\u001b[1;32m----> 1\u001b[1;33m \u001b[1;32mclass\u001b[0m \u001b[0mGmail_new\u001b[0m\u001b[1;33m(\u001b[0m\u001b[0mGmail\u001b[0m\u001b[1;33m)\u001b[0m\u001b[1;33m:\u001b[0m\u001b[1;33m\u001b[0m\u001b[1;33m\u001b[0m\u001b[0m\n\u001b[0m\u001b[0;32m      2\u001b[0m \u001b[1;33m\u001b[0m\u001b[0m\n\u001b[0;32m      3\u001b[0m     \u001b[1;32mdef\u001b[0m \u001b[0m__init__\u001b[0m\u001b[1;33m(\u001b[0m\u001b[0mself\u001b[0m\u001b[1;33m,\u001b[0m\u001b[0mphone_number\u001b[0m\u001b[1;33m,\u001b[0m \u001b[1;33m*\u001b[0m\u001b[0margs\u001b[0m\u001b[1;33m)\u001b[0m\u001b[1;33m:\u001b[0m\u001b[1;33m\u001b[0m\u001b[1;33m\u001b[0m\u001b[0m\n\u001b[0;32m      4\u001b[0m         \u001b[0msuper\u001b[0m\u001b[1;33m(\u001b[0m\u001b[0mGmail_new\u001b[0m\u001b[1;33m,\u001b[0m \u001b[0mself\u001b[0m\u001b[1;33m)\u001b[0m\u001b[1;33m.\u001b[0m\u001b[0m__init__\u001b[0m\u001b[1;33m(\u001b[0m\u001b[1;33m*\u001b[0m\u001b[0margs\u001b[0m\u001b[1;33m)\u001b[0m\u001b[1;33m\u001b[0m\u001b[1;33m\u001b[0m\u001b[0m\n\u001b[0;32m      5\u001b[0m         \u001b[0mself\u001b[0m\u001b[1;33m.\u001b[0m\u001b[0mphone_number\u001b[0m \u001b[1;33m=\u001b[0m \u001b[0mphone_number\u001b[0m\u001b[1;33m\u001b[0m\u001b[1;33m\u001b[0m\u001b[0m\n",
      "\u001b[1;31mNameError\u001b[0m: name 'Gmail' is not defined"
     ]
    }
   ],
   "source": [
    "class Gmail_new(Gmail):\n",
    "    \n",
    "    def __init__(self,phone_number, *args):\n",
    "        super(Gmail_new, self).__init__(*args)\n",
    "        self.phone_number = phone_number\n",
    "        \n",
    "    def passwod_recovery(self):\n",
    "        phone = int(input('Enter your registerd Mobile No.'))\n",
    "        if phone == self.phone_number:\n",
    "            print('your password is: ',self.password)\n",
    "        else:\n",
    "            print('invalid phone Number')"
   ]
  },
  {
   "cell_type": "code",
   "execution_count": 3,
   "id": "1d30a380",
   "metadata": {},
   "outputs": [
    {
     "ename": "NameError",
     "evalue": "name 'Gmail_new' is not defined",
     "output_type": "error",
     "traceback": [
      "\u001b[1;31m---------------------------------------------------------------------------\u001b[0m",
      "\u001b[1;31mNameError\u001b[0m                                 Traceback (most recent call last)",
      "\u001b[1;32mC:\\Users\\ADMINI~1\\AppData\\Local\\Temp/ipykernel_26220/302927006.py\u001b[0m in \u001b[0;36m<module>\u001b[1;34m\u001b[0m\n\u001b[1;32m----> 1\u001b[1;33m \u001b[0mnew_mail\u001b[0m \u001b[1;33m=\u001b[0m \u001b[0mGmail_new\u001b[0m\u001b[1;33m(\u001b[0m\u001b[1;36m9922496189\u001b[0m\u001b[1;33m)\u001b[0m\u001b[1;33m\u001b[0m\u001b[1;33m\u001b[0m\u001b[0m\n\u001b[0m",
      "\u001b[1;31mNameError\u001b[0m: name 'Gmail_new' is not defined"
     ]
    }
   ],
   "source": [
    "new_mail = Gmail_new(9922496189)"
   ]
  },
  {
   "cell_type": "code",
   "execution_count": null,
   "id": "d9dfb054",
   "metadata": {},
   "outputs": [],
   "source": []
  }
 ],
 "metadata": {
  "kernelspec": {
   "display_name": "Python 3 (ipykernel)",
   "language": "python",
   "name": "python3"
  },
  "language_info": {
   "codemirror_mode": {
    "name": "ipython",
    "version": 3
   },
   "file_extension": ".py",
   "mimetype": "text/x-python",
   "name": "python",
   "nbconvert_exporter": "python",
   "pygments_lexer": "ipython3",
   "version": "3.9.7"
  }
 },
 "nbformat": 4,
 "nbformat_minor": 5
}
